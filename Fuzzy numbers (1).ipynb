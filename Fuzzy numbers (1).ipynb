{
 "cells": [
  {
   "cell_type": "markdown",
   "id": "70fe34cb",
   "metadata": {},
   "source": [
    "# Fuzzy numbers"
   ]
  },
  {
   "cell_type": "markdown",
   "id": "f64ab308",
   "metadata": {},
   "source": [
    "### First approach\n",
    "\n",
    "1. Define a function that yields as output a scalar representing the membership grade of a fuzzy triangular number(p,q,r) - Berkachy, p.16 - given the following arguments: p,q,r and x: a real\n"
   ]
  },
  {
   "cell_type": "code",
   "execution_count": 1,
   "id": "ffb1f956",
   "metadata": {},
   "outputs": [],
   "source": [
    "fuzzytriangular <- function(p,q,r,x) {\n",
    "  if(p < x & x < q) {return((x - p) / (q - p))}\n",
    "  if(q < x & x < r) {return((r - x) / (r - q))}\n",
    "  else return(0)\n",
    "}"
   ]
  },
  {
   "cell_type": "code",
   "execution_count": 2,
   "id": "fbc65d9a",
   "metadata": {},
   "outputs": [
    {
     "data": {
      "text/html": [
       "0.8"
      ],
      "text/latex": [
       "0.8"
      ],
      "text/markdown": [
       "0.8"
      ],
      "text/plain": [
       "[1] 0.8"
      ]
     },
     "metadata": {},
     "output_type": "display_data"
    }
   ],
   "source": [
    "# p=1, q=2, r = 3, x=2.2\n",
    "fuzzytriangular(0,2,3,2.2)"
   ]
  },
  {
   "cell_type": "markdown",
   "id": "250d8254",
   "metadata": {},
   "source": [
    "If x is a beta realization with shape1 = 1/theta, with theta = 3 and shape2 = 1, then"
   ]
  },
  {
   "cell_type": "code",
   "execution_count": 3,
   "id": "a43a02c4",
   "metadata": {},
   "outputs": [
    {
     "data": {
      "text/html": [
       "0.332392793613019"
      ],
      "text/latex": [
       "0.332392793613019"
      ],
      "text/markdown": [
       "0.332392793613019"
      ],
      "text/plain": [
       "[1] 0.3323928"
      ]
     },
     "metadata": {},
     "output_type": "display_data"
    }
   ],
   "source": [
    "set.seed(2023)\n",
    "theta = 3\n",
    "x = rbeta(n = 1, shape1 = 1/theta, shape2 = 1) \n",
    "x"
   ]
  },
  {
   "cell_type": "markdown",
   "id": "f590a29a",
   "metadata": {},
   "source": [
    "In this example, we just assume that the argument x provided as input ia a beta realization. The membership grade is then"
   ]
  },
  {
   "cell_type": "code",
   "execution_count": 4,
   "id": "0ebe4e28",
   "metadata": {},
   "outputs": [
    {
     "data": {
      "text/html": [
       "0.16619639680651"
      ],
      "text/latex": [
       "0.16619639680651"
      ],
      "text/markdown": [
       "0.16619639680651"
      ],
      "text/plain": [
       "[1] 0.1661964"
      ]
     },
     "metadata": {},
     "output_type": "display_data"
    }
   ],
   "source": [
    "fuzzy_theta <- fuzzytriangular(p=0, q=2, r=3, x=x)\n",
    "fuzzy_theta"
   ]
  },
  {
   "cell_type": "markdown",
   "id": "7f8414c5",
   "metadata": {},
   "source": [
    "We can not make inference based on a point estimate even though we have its menbership grade. We then examine the possibility to construct asymptotic and exact $(1-\\beta)*100$ Confidence Intervals in the fashion of the method described in the book 'Fuzzy Statistics' (J.J.Buckley, 2004). First, we introduce the model, how to obtain a Maximum Likelihood Estimator (MLE) and how to compute Confidence Intervals. Then we use a numerical example."
   ]
  },
  {
   "cell_type": "markdown",
   "id": "bdbd5186",
   "metadata": {},
   "source": [
    "## The Beta distribution: basics\n",
    "\n",
    "\n",
    "Let us consider the following parametric Beta model\n",
    "\n",
    "$$ \n",
    "\\bigg\\{ Beta \\bigg(\\mathbf{\\frac{1}{\\theta}, 1\\bigg)} \\ ; \\ \\theta > 0   \\bigg\\} \n",
    "$$\n",
    "\n",
    "\n",
    "and suppose that a sample $x_{1},..., x_{n}$ is observed. In addition, let us recall the PDF of a standard $Beta(\\alpha, \\beta)$ distribution, parametrized by two real numbers $\\alpha$ and $\\beta$, $B(\\alpha, \\beta)$ being the Beta function.\n",
    "\n",
    "$$\n",
    "\\begin{align*}\n",
    " f_{\\alpha, \\beta }(x) = \\frac{ 1   }{ B(\\alpha, \\beta)  } x^{\\alpha - 1}   (1-x)^{\\beta - 1 } \\   \\\\\n",
    "\\end{align*}\n",
    "$$\n",
    "\n",
    "\n",
    "The distribution according to our initial model reduces to\n",
    "\n",
    "$$\n",
    "\\begin{align*}\n",
    " f_{\\theta }(x) = \\frac{1}{\\theta} x^{\\frac{1}{\\theta}- 1}     \\\\\n",
    "\\end{align*}\n",
    "$$\n",
    "\n",
    "\n",
    "## Some considerations\n",
    "\n",
    "\n",
    "Our goal is to find a Maximum Likelihood (ML) estimator for $\\theta$.\n",
    "\n",
    "First, let us show that $B\\bigg(   \\frac{1}{\\theta}, 1\\bigg) = \\theta$. Indeed, since  \n",
    "\n",
    "\n",
    "$$\n",
    "\\begin{align*}\n",
    "B(\\alpha, \\beta) = \\frac{\\Gamma(\\alpha) \\ \\Gamma(\\beta)}{ \\Gamma(\\alpha + \\beta)}  \\\\\n",
    "\\end{align*}\n",
    "$$\n",
    "\n",
    "we have that\n",
    "\n",
    "$$\n",
    "B\\bigg(   \\mathbf{\\frac{1}{\\theta}, 1\\bigg)} = \\frac{\\Gamma(\\theta^{-1}) \\ \\Gamma(1)}{ \\Gamma \\big(\\frac{1}{\\theta}+ 1 \\big)} = \\frac{\\Gamma(\\frac{1}{\\theta})}{ \\frac{1}{\\theta} \\ \\Gamma \\big(\\frac{1}{\\theta}\\big)} = \\frac{1}{\\frac{1}{\\theta}} = \\theta$\n",
    "$$\n",
    "\n",
    "\n",
    "Suppose we choose $\\theta = 3$, the distribution (also called a Standard Power Function distribution) becomes\n",
    "\n",
    "$$\n",
    "\\begin{align*}\n",
    " f_{\\theta }(x) = \\frac{1}{3} x^{\\frac{-2}{3}}    \\\\\n",
    "\\end{align*}\n",
    "$$\n",
    "\n",
    "## Expectation\n",
    "\n",
    "\n",
    "Then, let us show that $E[X] = \\frac{1}{1 + \\theta}$.\n",
    "$$\n",
    "\\begin{align*}\n",
    "& \\ \\ \\ E[X] = \\int\\limits_{Support}^{} xf_{\\theta}(x) \\ dx       \\ = \\  \\int\\limits_{0}^{1}  x \\ \\frac{1}{     B\\bigg(   \\mathbf{\\frac{1}{\\theta}, 1\\bigg)}}     \\frac{x^{\\frac{1}{\\theta}- 1}}{   (1-x)^{1 - 1 }} dx \\\\\n",
    "&\\ \\  \\ \\ \\ \\ \\ \\ \\ \\ = \\int\\limits_{0}^{1} \\frac{1}{\\theta} \\  x^{\\frac{1}{\\theta}} \\ dx \\ = \\ \\frac{1}{\\theta} \\ \\bigg[  \\frac{1}{\\frac{1}{\\theta} + 1} x^{\\frac{1}{\\theta} + 1}         \\bigg]_{0}^{1} \\\\ \n",
    "&\\ \\  \\ \\ \\ \\ \\ \\ \\ \\ = \\frac{1}{\\theta} \\ \\frac{\\theta}{1 + \\theta} \\ 1^{\\frac{1}{\\theta + 1}} \\ = \\ \\frac{1}{1 + \\theta} \n",
    "\\end{align*}\n",
    "$$\n",
    "\n",
    "In our example, we have $E[X] =\\frac{1}{1 + 3} = 1/4$.\n",
    "\n",
    "\n",
    "## Maximum Likelihood estimation\n",
    "\n",
    "For our Beta model, the Maximum Likelihood Estimator $\\hat{\\theta}_{MLE}$ for $\\theta$ is given by the expression $ - \\frac{ \\sum\\limits_{i=1}^{n}  ln(x_{i})}{ n} $. Indeed,\n",
    "\n",
    "\n",
    "$$\n",
    "\\begin{align*} \n",
    "& \\mathcal{L}(\\theta \\mid \\textbf{x} ) =  \\prod_{i=1}^{n} f_{\\theta}(x_{i}) = \\prod_{i=1}^{n} \\frac{ 1   }{B\\bigg(   \\mathbf{\\frac{1}{\\theta}, 1\\bigg)} } x_{i}^{\\frac{1}{\\theta} - 1}   (1-x_{i})^{1 - 1 }     \\\\\n",
    "& \\ \\ \\ \\ \\ \\ \\ \\   =   \\frac{1}{\\theta^{n}} \\  \\bigg(  \\prod_{i=1}^{n} x_{i} \\bigg)^{     \\frac{1}{\\theta} - 1}    \\  \\prod_{i=1}^{n}  \\\\\n",
    "& l(\\theta \\mid \\textbf{x} ) = -n \\ ln(\\theta) + \\bigg( \\frac{1}{\\theta} - 1  \\bigg)  \\sum_{i=1}^{n} ln(x_{i}) + \\sum_{i=1}^{n}   \\\\\n",
    "\\end{align*}\n",
    "$$\n",
    "\n",
    "Next, we differentiate the log-likelihood function with respect to the model parameter $\\theta$, so that we have\n",
    "\n",
    "$$\n",
    "\\begin{align*} \n",
    "&  \\frac{ \\partial  \\ l  ( \\theta \\mid \\textbf{x})} {\\partial \\theta} =  - n \\frac{1}{\\theta}   - \\frac{1}{\\theta^{2}}  \\sum_{i=1}^{n} ln(x_{i})      \\\\\n",
    "\\end{align*}\n",
    "$$\n",
    "\n",
    "Setting this derivative equal to $0$ and solving for $\\theta$ then yields\n",
    "\n",
    "$$\n",
    "- \\frac{n}{\\theta} = \\frac{1}{\\theta^{2}}  \\sum_{i=1}^{n} ln(x_{i})    \\ \\ \\ \\ \\ \\ \\Leftrightarrow \\ \\ \\ \\ \\ \\ \\  \\hat{\\theta}_{MLE} =  - \\frac{1}{n} \\sum_{i=1}^{n}  ln(x_{i}) \n",
    "$$\n",
    "\n",
    "\n",
    "which is our MLE. Let's perform ML estimation with R then with Python next\n",
    "\n"
   ]
  },
  {
   "cell_type": "markdown",
   "id": "22d64d42",
   "metadata": {},
   "source": [
    "To construct a fuzzy estimator for $\\theta$, the parameter of our Beta model, we have at least two options, namely the asymptotic behavior of the Maximum Likelihood Estimator and the $\\delta$-method."
   ]
  },
  {
   "cell_type": "markdown",
   "id": "4a2a2cd2",
   "metadata": {},
   "source": [
    "Asymptotic behavior of the MLE (theorem):\n",
    "\n",
    "Let $\\theta_{n}(x_{1},...x_{n})$ be the MLE of $\\theta$ Under the assumption that the Fisher information exists, we have that\n",
    "\n",
    "$$\n",
    "\\sqrt{n}(\\theta_{n}(x_{1},...x_{n}) - \\theta \\xrightarrow{L} N_{p}(0, I^{-1}(\\theta)).\n",
    "$$\n",
    "\n",
    "The next step is to assess some properties of the MLE and derive the Fisher information. We will use those results for the construction of our confidence intervals."
   ]
  },
  {
   "cell_type": "markdown",
   "id": "62bfbc3c",
   "metadata": {},
   "source": [
    "## Unbiasedness and consistency of the MLE\n",
    "\n",
    "Let us first define $y_{i} = -ln(x_{i})$. Then we have that \n",
    "\n",
    "$$\n",
    "\\hat{\\theta}_{MLE} = - \\frac{1}{n} \\sum_{i=1}^{n} ln(x_{i}) = \\frac{1}{n} \\sum_{i=1}^{n} y_{i} = \\bar{y}\n",
    "$$\n",
    "\n",
    "So since \n",
    "\n",
    "$$\n",
    "E[\\hat{\\theta}_{MLE}] = E[\\bar{y}] = \\frac{1}{n} \\sum_{i=1}^{n} E[y_{i}] = E[Y] = \\frac{1}{1/\\theta} = \\theta,\n",
    "$$\n",
    "\n",
    "we consclude that $\\hat{\\theta}_{MLE}$ is an unbiased estimator for $\\theta$. Next, by the Law of Large Numbers (LLN), we have\n",
    "\n",
    "$$\n",
    "\\frac{1}{n} \\sum_{i=1}^{n} y_{i} \\xrightarrow{L} E[Y] = \\theta.\n",
    "$$\n",
    "\n",
    "So we conclude that $\\hat{\\theta}_{MLE}$ is a consistent estimator for $\\theta$. This will help us construct asymptotic confidence intervals which have desirable properties.\n"
   ]
  },
  {
   "cell_type": "markdown",
   "id": "b123dad6",
   "metadata": {},
   "source": [
    "## Fisher information of one observation\n",
    "\n",
    "The derivative of the log-likelihood function with respect to our parameter is rewritten as\n",
    "\n",
    "$$\n",
    "\\frac{ \\partial  \\ l  ( \\theta \\mid \\textbf{x})} {\\partial \\theta} =  - n \\frac{1}{\\theta}   - \\frac{1}{\\theta^{2}}  \\sum_{i=1}^{n} ln(x_{i})    =  - n \\frac{1}{\\theta}   + \\frac{1}{\\theta^{2}}  \\sum_{i=1}^{n} y_{i}\n",
    "$$"
   ]
  },
  {
   "cell_type": "code",
   "execution_count": null,
   "id": "ddea5a0e",
   "metadata": {},
   "outputs": [],
   "source": []
  },
  {
   "cell_type": "code",
   "execution_count": null,
   "id": "b8e886db",
   "metadata": {},
   "outputs": [],
   "source": []
  },
  {
   "cell_type": "code",
   "execution_count": null,
   "id": "9e803f58",
   "metadata": {},
   "outputs": [],
   "source": []
  },
  {
   "cell_type": "markdown",
   "id": "b9608ed8",
   "metadata": {},
   "source": [
    "### Second approach"
   ]
  },
  {
   "cell_type": "code",
   "execution_count": 107,
   "id": "137c5ab2",
   "metadata": {},
   "outputs": [],
   "source": [
    "betaquant = seq(0.01:1, by = 0.01)\n",
    "theta_hat = 2.2; n = 60\n",
    "CIl= theta_hat - qnorm(1-betaquant/2)*(theta_hat/n)\n",
    "CIu = theta_hat + qnorm(1-betaquant/2)*(theta_hat/n)"
   ]
  },
  {
   "cell_type": "code",
   "execution_count": 108,
   "id": "8ad720df",
   "metadata": {},
   "outputs": [
    {
     "data": {
      "image/png": "[encoded data removed]",
      "text/plain": [
       "Plot with title \"Triangular Confidence Interval for the fuzzy parameter theta bar\""
      ]
     },
     "metadata": {},
     "output_type": "display_data"
    }
   ],
   "source": [
    "plot(x = c(CIl, sort(CIu, decreasing = FALSE)), y = c(seq(0.01, 1, length = 100), seq(1, 0.01, length = 100)), type = 'l',\n",
    "    main = 'Triangular Confidence Interval for the fuzzy parameter theta bar')"
   ]
  },
  {
   "cell_type": "code",
   "execution_count": null,
   "id": "1ca7c94c",
   "metadata": {},
   "outputs": [],
   "source": []
  },
  {
   "cell_type": "code",
   "execution_count": null,
   "id": "6cbd5663",
   "metadata": {},
   "outputs": [],
   "source": []
  }
 ],
 "metadata": {
  "kernelspec": {
   "display_name": "R",
   "language": "R",
   "name": "ir"
  },
  "language_info": {
   "codemirror_mode": "r",
   "file_extension": ".r",
   "mimetype": "text/x-r-source",
   "name": "R",
   "pygments_lexer": "r",
   "version": "3.6.1"
  }
 },
 "nbformat": 4,
 "nbformat_minor": 5
}
