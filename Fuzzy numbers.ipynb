{
 "cells": [
  {
   "cell_type": "markdown",
   "id": "70fe34cb",
   "metadata": {},
   "source": [
    "# Fuzzy numbers"
   ]
  },
  {
   "cell_type": "markdown",
   "id": "f64ab308",
   "metadata": {},
   "source": [
    "### 1. Define a function that yields as output a scalar representing the membership grade of a fuzzy triangular number(p,q,r) - Berkachy, p.16 - given the following arguments: p,q,r and x: a real\n"
   ]
  },
  {
   "cell_type": "code",
   "execution_count": 10,
   "id": "ffb1f956",
   "metadata": {},
   "outputs": [],
   "source": [
    "fuzzytriangular <- function(p,q,r,x) {\n",
    "  if(p < x & x < q) {return((x - p) / (q - p))}\n",
    "  if(q < x & x < r) {return((r - x) / (r - q))}\n",
    "  else return(0)\n",
    "}"
   ]
  },
  {
   "cell_type": "code",
   "execution_count": 20,
   "id": "fbc65d9a",
   "metadata": {},
   "outputs": [
    {
     "data": {
      "text/html": [
       "0.8"
      ],
      "text/latex": [
       "0.8"
      ],
      "text/markdown": [
       "0.8"
      ],
      "text/plain": [
       "[1] 0.8"
      ]
     },
     "metadata": {},
     "output_type": "display_data"
    }
   ],
   "source": [
    "# p=1, q=2, r = 3, x=2.2\n",
    "fuzzytriangular(0,2,3,2.2)"
   ]
  },
  {
   "cell_type": "markdown",
   "id": "250d8254",
   "metadata": {},
   "source": [
    "### If x is a beta realization with shape1 = 1/theta, with theta = 3 and shape2 = 1, then"
   ]
  },
  {
   "cell_type": "code",
   "execution_count": 21,
   "id": "a43a02c4",
   "metadata": {},
   "outputs": [
    {
     "data": {
      "text/html": [
       "0.332392793613019"
      ],
      "text/latex": [
       "0.332392793613019"
      ],
      "text/markdown": [
       "0.332392793613019"
      ],
      "text/plain": [
       "[1] 0.3323928"
      ]
     },
     "metadata": {},
     "output_type": "display_data"
    }
   ],
   "source": [
    "set.seed(2023)\n",
    "theta = 3\n",
    "x = rbeta(n = 1, shape1 = 1/theta, shape2 = 1) \n",
    "x"
   ]
  },
  {
   "cell_type": "markdown",
   "id": "f590a29a",
   "metadata": {},
   "source": [
    "### In this example, we just assume that the argument x provided as input ia a beta realization. The membership grade is then"
   ]
  },
  {
   "cell_type": "code",
   "execution_count": 23,
   "id": "0ebe4e28",
   "metadata": {},
   "outputs": [
    {
     "data": {
      "text/html": [
       "0.16619639680651"
      ],
      "text/latex": [
       "0.16619639680651"
      ],
      "text/markdown": [
       "0.16619639680651"
      ],
      "text/plain": [
       "[1] 0.1661964"
      ]
     },
     "metadata": {},
     "output_type": "display_data"
    }
   ],
   "source": [
    "fuzzy_theta <- fuzzytriangular(p=0, q=2, r=3, x=x)\n",
    "fuzzy_theta"
   ]
  },
  {
   "cell_type": "code",
   "execution_count": null,
   "id": "4cf494ca",
   "metadata": {},
   "outputs": [],
   "source": []
  }
 ],
 "metadata": {
  "kernelspec": {
   "display_name": "R",
   "language": "R",
   "name": "ir"
  },
  "language_info": {
   "codemirror_mode": "r",
   "file_extension": ".r",
   "mimetype": "text/x-r-source",
   "name": "R",
   "pygments_lexer": "r",
   "version": "3.6.1"
  }
 },
 "nbformat": 4,
 "nbformat_minor": 5
}
