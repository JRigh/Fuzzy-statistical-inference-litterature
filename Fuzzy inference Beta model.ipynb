{
 "cells": [
  {
   "cell_type": "markdown",
   "id": "70fe34cb",
   "metadata": {},
   "source": [
    "# Fuzzy statistical inference for the parameter of a Beta model\n",
    "\n",
    "Julian Sampedro, May 2023"
   ]
  },
  {
   "cell_type": "markdown",
   "id": "f64ab308",
   "metadata": {},
   "source": [
    "## First approach (incomplete and inconclusive)\n",
    "\n",
    "1. Define a function that yields as output a scalar representing the membership grade of a fuzzy triangular number(p,q,r) - Berkachy, p.16 - given the following arguments: p,q,r and x: a real\n"
   ]
  },
  {
   "cell_type": "code",
   "execution_count": 147,
   "id": "ffb1f956",
   "metadata": {},
   "outputs": [],
   "source": [
    "fuzzytriangular = function(p,q,r,x) {\n",
    "  if(p < x & x < q) {return((x - p) / (q - p))}\n",
    "  if(q < x & x < r) {return((r - x) / (r - q))}\n",
    "  else return(0)\n",
    "}"
   ]
  },
  {
   "cell_type": "code",
   "execution_count": 148,
   "id": "fbc65d9a",
   "metadata": {},
   "outputs": [
    {
     "data": {
      "text/html": [
       "0.8"
      ],
      "text/latex": [
       "0.8"
      ],
      "text/markdown": [
       "0.8"
      ],
      "text/plain": [
       "[1] 0.8"
      ]
     },
     "metadata": {},
     "output_type": "display_data"
    }
   ],
   "source": [
    "# p=1, q=2, r = 3, x=2.2\n",
    "fuzzytriangular(0,2,3,2.2)"
   ]
  },
  {
   "cell_type": "markdown",
   "id": "250d8254",
   "metadata": {},
   "source": [
    "If x is a beta realization with shape1 = 1/theta, with theta = 3 and shape2 = 1, then"
   ]
  },
  {
   "cell_type": "code",
   "execution_count": 149,
   "id": "a43a02c4",
   "metadata": {},
   "outputs": [
    {
     "data": {
      "text/html": [
       "0.332392793613019"
      ],
      "text/latex": [
       "0.332392793613019"
      ],
      "text/markdown": [
       "0.332392793613019"
      ],
      "text/plain": [
       "[1] 0.3323928"
      ]
     },
     "metadata": {},
     "output_type": "display_data"
    }
   ],
   "source": [
    "set.seed(2023)\n",
    "theta = 3\n",
    "x = rbeta(n = 1, shape1 = 1/theta, shape2 = 1) \n",
    "x"
   ]
  },
  {
   "cell_type": "markdown",
   "id": "f590a29a",
   "metadata": {},
   "source": [
    "In this example, we just assume that the argument x provided as input ia a beta realization. The membership grade is then"
   ]
  },
  {
   "cell_type": "code",
   "execution_count": 150,
   "id": "0ebe4e28",
   "metadata": {},
   "outputs": [
    {
     "data": {
      "text/html": [
       "0.16619639680651"
      ],
      "text/latex": [
       "0.16619639680651"
      ],
      "text/markdown": [
       "0.16619639680651"
      ],
      "text/plain": [
       "[1] 0.1661964"
      ]
     },
     "metadata": {},
     "output_type": "display_data"
    }
   ],
   "source": [
    "fuzzy_theta <- fuzzytriangular(p=0, q=2, r=3, x=x)\n",
    "fuzzy_theta"
   ]
  },
  {
   "cell_type": "markdown",
   "id": "576c12af",
   "metadata": {},
   "source": [
    "We can not make inference based on a point estimate even though we have its menbership grade (?). We then examine the possibility to construct asymptotic and exact $(1-\\beta)*100$ Confidence Intervals in the fashion of the method described in the book 'Fuzzy Statistics' (J.J.Buckley, 2004). First, we introduce the model, how to obtain a Maximum Likelihood Estimator (MLE) and how to compute Confidence Intervals. Then we use a numerical example."
   ]
  },
  {
   "cell_type": "markdown",
   "id": "6f538a72",
   "metadata": {},
   "source": [
    "## The Beta distribution: basics\n",
    "\n",
    "\n",
    "Let us consider the following parametric Beta model\n",
    "\n",
    "$$ \n",
    "\\bigg\\{ Beta \\bigg(\\mathbf{\\frac{1}{\\theta}, 1\\bigg)} \\ ; \\ \\theta > 0   \\bigg\\} \n",
    "$$\n",
    "\n",
    "\n",
    "and suppose that a sample $x_{1},..., x_{n}$ is observed. In addition, let us recall the PDF of a standard $Beta(\\alpha, \\beta)$ distribution, parametrized by two real numbers $\\alpha$ and $\\beta$, $B(\\alpha, \\beta)$ being the Beta function.\n",
    "\n",
    "$$\n",
    "\\begin{align*}\n",
    " f_{\\alpha, \\beta }(x) = \\frac{ 1   }{ B(\\alpha, \\beta)  } x^{\\alpha - 1}   (1-x)^{\\beta - 1 } \\   \\\\\n",
    "\\end{align*}\n",
    "$$\n",
    "\n",
    "\n",
    "The distribution according to our initial model reduces to\n",
    "\n",
    "$$\n",
    "\\begin{align*}\n",
    " f_{\\theta }(x) = \\frac{1}{\\theta} x^{\\frac{1}{\\theta}- 1}     \\\\\n",
    "\\end{align*}\n",
    "$$\n",
    "\n",
    "\n",
    "## Some considerations\n",
    "\n",
    "\n",
    "Our goal is to find a Maximum Likelihood (ML) estimator for $\\theta$.\n",
    "\n",
    "First, let us show that $B\\bigg(   \\frac{1}{\\theta}, 1\\bigg) = \\theta$. Indeed, since  \n",
    "\n",
    "\n",
    "$$\n",
    "\\begin{align*}\n",
    "B(\\alpha, \\beta) = \\frac{\\Gamma(\\alpha) \\ \\Gamma(\\beta)}{ \\Gamma(\\alpha + \\beta)}  \\\\\n",
    "\\end{align*}\n",
    "$$\n",
    "\n",
    "we have that\n",
    "\n",
    "$$\n",
    "B\\bigg(   \\mathbf{\\frac{1}{\\theta}, 1\\bigg)} = \\frac{\\Gamma(\\theta^{-1}) \\ \\Gamma(1)}{ \\Gamma \\big(\\frac{1}{\\theta}+ 1 \\big)} = \\frac{\\Gamma(\\frac{1}{\\theta})}{ \\frac{1}{\\theta} \\ \\Gamma \\big(\\frac{1}{\\theta}\\big)} = \\frac{1}{\\frac{1}{\\theta}} = \\theta\n",
    "$$\n",
    "\n",
    "\n",
    "Suppose we choose $\\theta = 3$, the distribution (also called a Standard Power Function distribution) becomes\n",
    "\n",
    "$$\n",
    "\\begin{align*}\n",
    " f_{\\theta }(x) = \\frac{1}{3} x^{\\frac{-2}{3}}    \\\\\n",
    "\\end{align*}\n",
    "$$\n",
    "\n",
    "\n",
    "\n",
    "## Maximum Likelihood estimation\n",
    "\n",
    "For our Beta model, the Maximum Likelihood Estimator $\\hat{\\theta}_{MLE}$ for $\\theta$ is given by the expression $ - \\frac{ \\sum\\limits_{i=1}^{n}  ln(x_{i})}{ n} $. Indeed,\n",
    "\n",
    "\n",
    "$$\n",
    "\\begin{align*} \n",
    "& \\mathcal{L}(\\theta \\mid \\textbf{x} ) =  \\prod_{i=1}^{n} f_{\\theta}(x_{i}) = \\prod_{i=1}^{n} \\frac{ 1   }{B\\bigg(   \\mathbf{\\frac{1}{\\theta}, 1\\bigg)} } x_{i}^{\\frac{1}{\\theta} - 1}   (1-x_{i})^{1 - 1 }     \\\\\n",
    "& \\ \\ \\ \\ \\ \\ \\ \\   =   \\frac{1}{\\theta^{n}} \\  \\bigg(  \\prod_{i=1}^{n} x_{i} \\bigg)^{     \\frac{1}{\\theta} - 1}    \\  \\prod_{i=1}^{n}  \\\\\n",
    "& l(\\theta \\mid \\textbf{x} ) = -n \\ ln(\\theta) + \\bigg( \\frac{1}{\\theta} - 1  \\bigg)  \\sum_{i=1}^{n} ln(x_{i}) + \\sum_{i=1}^{n}   \\\\\n",
    "\\end{align*}\n",
    "$$\n",
    "\n",
    "Next, we differentiate the log-likelihood function with respect to the model parameter $\\theta$, so that we have\n",
    "\n",
    "$$\n",
    "\\begin{align*} \n",
    "&  \\frac{ \\partial  \\ l  ( \\theta \\mid \\textbf{x})} {\\partial \\theta} =  - n \\frac{1}{\\theta}   - \\frac{1}{\\theta^{2}}  \\sum_{i=1}^{n} ln(x_{i})      \\\\\n",
    "\\end{align*}\n",
    "$$\n",
    "\n",
    "Setting this derivative equal to $0$ and solving for $\\theta$ then yields\n",
    "\n",
    "$$\n",
    "- \\frac{n}{\\theta} = \\frac{1}{\\theta^{2}}  \\sum_{i=1}^{n} ln(x_{i})    \\ \\ \\ \\ \\ \\ \\Leftrightarrow \\ \\ \\ \\ \\ \\ \\  \\hat{\\theta}_{MLE} =  - \\frac{1}{n} \\sum_{i=1}^{n}  ln(x_{i}) \n",
    "$$\n",
    "\n",
    "\n",
    "which is our MLE. Let's perform ML estimation with R then with Python next\n",
    "\n"
   ]
  },
  {
   "cell_type": "markdown",
   "id": "7fd545f2",
   "metadata": {},
   "source": [
    "To construct a fuzzy estimator for $\\theta$, the parameter of our Beta model, we have at least two options, namely the asymptotic behavior of the Maximum Likelihood Estimator and the $\\delta$-method."
   ]
  },
  {
   "cell_type": "markdown",
   "id": "77fd30d9",
   "metadata": {},
   "source": [
    "Asymptotic behavior of the MLE (theorem):\n",
    "\n",
    "Let $\\theta_{n}(x_{1},...x_{n})$ be the MLE of $\\theta$ Under the assumption that the Fisher information exists, we have that\n",
    "\n",
    "$$\n",
    "\\sqrt{n}(\\theta_{n}(x_{1},...x_{n}) - \\theta \\xrightarrow{L} N_{p}(0, I^{-1}(\\theta)).\n",
    "$$\n",
    "\n",
    "The next step is to assess some properties of the MLE and derive the Fisher information. We will use those results for the construction of our confidence intervals."
   ]
  },
  {
   "cell_type": "markdown",
   "id": "5bc810c3",
   "metadata": {},
   "source": [
    "## Unbiasedness and consistency of the MLE\n",
    "\n",
    "Let us first define $y_{i} = -ln(x_{i})$. Then we have that \n",
    "\n",
    "$$\n",
    "\\hat{\\theta}_{MLE} = - \\frac{1}{n} \\sum_{i=1}^{n} ln(x_{i}) = \\frac{1}{n} \\sum_{i=1}^{n} y_{i} = \\bar{y}\n",
    "$$\n",
    "\n",
    "So since \n",
    "\n",
    "$$\n",
    "E[\\hat{\\theta}_{MLE}] = E[\\bar{y}] = \\frac{1}{n} \\sum_{i=1}^{n} E[y_{i}] = E[Y] = \\frac{1}{1/\\theta} = \\theta,\n",
    "$$\n",
    "\n",
    "we consclude that $\\hat{\\theta}_{MLE}$ is an unbiased estimator for $\\theta$. Next, by the Law of Large Numbers (LLN), we have\n",
    "\n",
    "$$\n",
    "\\frac{1}{n} \\sum_{i=1}^{n} y_{i} \\xrightarrow{L} E[Y] = \\theta.\n",
    "$$\n",
    "\n",
    "So we conclude that $\\hat{\\theta}_{MLE}$ is a consistent estimator for $\\theta$. This will help us construct asymptotic confidence intervals which have desirable properties.\n"
   ]
  },
  {
   "cell_type": "markdown",
   "id": "4b6eac5e",
   "metadata": {},
   "source": [
    "## Fisher information of the sample\n",
    "\n",
    "The derivative of the log-likelihood function with respect to our parameter is rewritten as\n",
    "\n",
    "$$\n",
    "\\frac{ \\partial  \\ l  ( \\theta \\mid \\textbf{x})} {\\partial \\theta} =  -  \\frac{n}{\\theta}   - \\frac{1}{\\theta^{2}}  \\sum_{i=1}^{n} ln(x_{i})    =  - \\frac{n}{\\theta}   + \\frac{1}{\\theta^{2}}  \\sum_{i=1}^{n} y_{i}\n",
    "$$\n",
    "\n",
    "Then the fisher information of the sample, denoted by $I(\\theta)$ is the variance of this partial derivative. We have\n",
    "\n",
    "$$\n",
    "\\begin{align*}\n",
    "I(\\theta) & = var\\bigg(\\underbrace{- \\frac{n}{\\theta}}_{constant}   + \\frac{1}{\\theta^{2}}  \\sum_{i=1}^{n} y_{i}\\bigg) \\\\\n",
    "& = var\\bigg(\\frac{1}{\\theta^{2}}  \\sum_{i=1}^{n} y_{i} \\bigg) \\\\\n",
    "& = \\frac{1}{\\theta^{4}} var \\bigg(\\sum_{i=1}^{n} y_{i} \\bigg) \\\\\n",
    "& =\\frac{1}{\\theta^{4}} n var( Y ) \\\\\n",
    "& = \\frac{n \\theta^{2}}{\\theta^{4}} \\\\\n",
    "& = \\frac{n }{\\theta^{2}} \\\\\n",
    "\\end{align*}\n",
    "$$\n",
    "\n",
    "We use the fact that $var(Y) = \\frac{1}{(1/\\theta)^{2}} = \\theta^{2}$. Then the Fisher information of the sample is therefore equal to $\\frac{n }{\\theta^{2}}$."
   ]
  },
  {
   "cell_type": "markdown",
   "id": "e02f38ff",
   "metadata": {},
   "source": [
    "## Asymptotic behaviour of the MLE\n",
    "\n",
    "We can show that the quantity $\\sqrt{n} (\\hat{\\theta}_{MLE} - \\theta) \\xrightarrow{L} N(0, I^{-1}(\\theta))$. Therefore we have that $(\\hat{\\theta}_{MLE} - \\theta) \\xrightarrow{L} N \\bigg(0, \\frac{n\\theta^2}{n} \\bigg)$. And eventually that $\\hat{\\theta}_{MLE} \\xrightarrow{L} N (\\theta, \\theta^2 )$.\n",
    "\n",
    "Next, from the Central Limit Theorem (CLT), we can deduce that $\\sqrt{n} \\bigg(\\frac{\\hat{\\theta}_{MLE} - \\theta}{\\theta} \\bigg) \\xrightarrow{L} N(0, 1)$ and since $\\hat{\\theta}_{MLE}$ is a consistent estimator for $\\theta$, we have that (theory) $\\sqrt{n} \\bigg(\\frac{\\hat{\\theta}_{MLE} - \\theta}{\\hat{\\theta}_{MLE}} \\bigg) \\xrightarrow{L} N(0, 1)$.\n",
    "\n",
    "We can now deduce a first confidence interval whcich states that $\\theta \\in [\\hat{\\theta}_{MLE} \\pm z_{1-\\beta/2} \\frac{\\hat{\\theta}_{MLE}}{n}]$ where $z_{1-\\beta/2}$ is the $1-\\beta/2$ quantile of the standard Normal distribution."
   ]
  },
  {
   "cell_type": "markdown",
   "id": "086900f2",
   "metadata": {},
   "source": [
    "Inspired from the method described in the book of J.J. Buckley, we will construct a series of $(1-\\beta)100\\%$ confidence intervals for all $\\beta \\in [0.01, 1]$. We will then find a set of $200$ confidence intervals that we will place on top of each other to construct our fuzzy estimator $\\bar{\\theta}$ for $\\theta$ (see chapter 3 and followings). This lead us to a more complete second approach for which the simple code is on the next section."
   ]
  },
  {
   "cell_type": "markdown",
   "id": "ca7f48c5",
   "metadata": {},
   "source": [
    "## Second approach\n",
    "\n",
    "Suppose that we observe a sample of size $60$ and decide to make inference by modeling the data with our univariate Beta model. In this setup, for the simulations, we chose parameter $\\theta = 3$ but of course this particular value is unknown in practice and can be estimated by maximum likelihood for example. Let us construct an asymptotic set of fuzzy confidence intervals to estimate our fuzzy parameter $\\bar{\\theta}$."
   ]
  },
  {
   "cell_type": "code",
   "execution_count": 151,
   "id": "a0063e4a",
   "metadata": {},
   "outputs": [],
   "source": [
    "set.seed(2023)\n",
    "theta = 3; n = 60\n",
    "x_sample = rbeta(n = n, shape1 = 1/theta, shape2 = 1) \n",
    "\n",
    "# MLE\n",
    "theta_hat = - (1/n) *sum(log(x_sample))"
   ]
  },
  {
   "cell_type": "code",
   "execution_count": 152,
   "id": "f06ed4df",
   "metadata": {},
   "outputs": [],
   "source": [
    "beta = seq(0.01:1, by = 0.01)\n",
    "asy1CIl= theta_hat - qnorm(1-beta/2)*(theta_hat/n) # lower bounds\n",
    "asy1CIu = theta_hat + qnorm(1-beta/2)*(theta_hat/n) # upper bounds"
   ]
  },
  {
   "cell_type": "code",
   "execution_count": 183,
   "id": "08dab4ee",
   "metadata": {},
   "outputs": [
    {
     "data": {
      "image/png": "[encoded data removed]",
      "text/plain": [
       "Plot with title \"paste(\"First triangular fuzzy confidence interval for the fuzzy parameter \", bar(theta))\""
      ]
     },
     "metadata": {},
     "output_type": "display_data"
    }
   ],
   "source": [
    "plot(x = c(asy1CIl, sort(asy1CIu, decreasing = FALSE)), y = c(seq(0.01, 1, length = 100), seq(1, 0.01, length = 100)), type = 'l',\n",
    "    main = expression(paste('First triangular fuzzy confidence interval for the fuzzy parameter ', bar(theta))))"
   ]
  },
  {
   "cell_type": "markdown",
   "id": "c944cc56",
   "metadata": {},
   "source": [
    "We now have a fuzzy estimator $\\bar{\\theta}[\\alpha] = [\\bar{\\theta}_{1}(\\alpha), \\bar{\\theta}_{2}(\\alpha)]$ in the form of a triangular fuzzy number. If we consider the endpoint of the largest confidence interval to be the support of the fuzzy number and the value on the x-axis for which the membership grade is one to be the core of the fuzzy number, then we can then compute the membership grade of a point estimate, for example the MLE."
   ]
  },
  {
   "cell_type": "code",
   "execution_count": 162,
   "id": "643954be",
   "metadata": {},
   "outputs": [
    {
     "data": {
      "text/html": [
       "0.999856025175221"
      ],
      "text/latex": [
       "0.999856025175221"
      ],
      "text/markdown": [
       "0.999856025175221"
      ],
      "text/plain": [
       "[1] 0.999856"
      ]
     },
     "metadata": {},
     "output_type": "display_data"
    }
   ],
   "source": [
    "fuzzytriangular(p = min(asy1CIl), q = max(asy1CIl), r = max(asy1CIu), x = round(theta_hat,4))"
   ]
  },
  {
   "cell_type": "markdown",
   "id": "79715ace",
   "metadata": {},
   "source": [
    "Another point estimate found with another method, say the value 3.04, would similarly have a menmbership grade equal to"
   ]
  },
  {
   "cell_type": "code",
   "execution_count": 187,
   "id": "a57943a3",
   "metadata": {},
   "outputs": [
    {
     "data": {
      "text/html": [
       "0.50342369117972"
      ],
      "text/latex": [
       "0.50342369117972"
      ],
      "text/markdown": [
       "0.50342369117972"
      ],
      "text/plain": [
       "[1] 0.5034237"
      ]
     },
     "metadata": {},
     "output_type": "display_data"
    }
   ],
   "source": [
    "fuzzytriangular(p = min(asy1CIl), q = max(asy1CIl), r = max(asy1CIu), x = 3.04)"
   ]
  },
  {
   "cell_type": "markdown",
   "id": "6e0d7dd5",
   "metadata": {},
   "source": [
    "## Second asymptotic confidence interval\n",
    "\n",
    "Another asymptotic confidence interval can be obtained by using the result from the CLT that states that $\\sqrt{n} \\bigg(\\frac{\\hat{\\theta}_{MLE} - \\theta}{\\theta} \\bigg) \\xrightarrow{L} N(0, 1)$. Then a new asymptotic confidence interval can be derived as follows:\n",
    "\n",
    "$$\n",
    "\\begin{align*}\n",
    "P \\bigg(-z_{1-\\beta/2} \\leq \\sqrt{n} \\bigg(\\frac{\\hat{\\theta}_{MLE} - \\theta}{\\theta} \\bigg) \\leq z_{1-\\beta/2} \\bigg) = 1-\\beta \\\\\n",
    "P \\bigg(\\frac{-z_{1-\\beta/2} }{\\sqrt{n} } \\leq \\frac{\\hat{\\theta}_{MLE}}{\\theta} - 1 \\leq \\frac{z_{1-\\beta/2} }{\\sqrt{n} }  \\bigg) = 1-\\beta \\\\\n",
    "P \\bigg(\\frac{ \\hat{\\theta}_{MLE} }{ 1 + \\frac{z_{1-\\beta/2}}{ \\sqrt{n}}} \\leq \\theta \\leq \\frac{ \\hat{\\theta}_{MLE} }{ 1 - \\frac{z_{1-\\beta/2}}{ \\sqrt{n}}} \\bigg) = 1-\\beta \\\\\n",
    "\\end{align*}\n",
    "$$\n",
    "\n",
    "We can now deduce a second confidence interval of the form $\\theta \\in [\\frac{ \\hat{\\theta}_{MLE} }{ 1 + \\frac{z_{1-\\beta/2}}{ \\sqrt{n}}}, \\frac{ \\hat{\\theta}_{MLE} }{ 1 - \\frac{z_{1-\\beta/2}}{ \\sqrt{n}}}]$, where $z_{1-\\beta/2}$ is the $1-\\beta/2$ quantile of the standard Normal distribution."
   ]
  },
  {
   "cell_type": "code",
   "execution_count": 173,
   "id": "fb5cbef8",
   "metadata": {},
   "outputs": [],
   "source": [
    "beta = seq(0.01:1, by = 0.01)\n",
    "asy2CIl = theta_hat / (1 + qnorm(1-beta/2)/n) # lower bounds\n",
    "asy2CIu = theta_hat / (1 - qnorm(1-beta/2)/n) # upper bounds"
   ]
  },
  {
   "cell_type": "code",
   "execution_count": 182,
   "id": "2178fe91",
   "metadata": {},
   "outputs": [
    {
     "data": {
      "image/png": "[encoded data removed]",
      "text/plain": [
       "Plot with title \"paste(\"Second triangular fuzzy confidence interval for the fuzzy parameter \", bar(theta))\""
      ]
     },
     "metadata": {},
     "output_type": "display_data"
    }
   ],
   "source": [
    "plot(x = c(asy2CIl, sort(asy2CIu, decreasing = FALSE)), y = c(seq(0.01, 1, length = 100), seq(1, 0.01, length = 100)), type = 'l',\n",
    "    main = expression(paste('Second triangular fuzzy confidence interval for the fuzzy parameter ', bar(theta))))"
   ]
  },
  {
   "cell_type": "markdown",
   "id": "1a4368f1",
   "metadata": {},
   "source": [
    "We now have a second fuzzy estimator $\\bar{\\theta^{*}}[\\alpha] = [\\bar{\\theta}^{*}_{1}(\\alpha), \\bar{\\theta}^{*}_{2}(\\alpha)]$ in the form of a triangular fuzzy number. Again, if we consider the endpoint of the largest confidence interval to be the support of the fuzzy number and the value on the x-axis for which the membership grade is one to be the core of the fuzzy number, then we can then compute the membership grade of a point estimate, for example the MLE."
   ]
  },
  {
   "cell_type": "code",
   "execution_count": 185,
   "id": "16a18974",
   "metadata": {},
   "outputs": [
    {
     "data": {
      "text/html": [
       "0.999849844265677"
      ],
      "text/latex": [
       "0.999849844265677"
      ],
      "text/markdown": [
       "0.999849844265677"
      ],
      "text/plain": [
       "[1] 0.9998498"
      ]
     },
     "metadata": {},
     "output_type": "display_data"
    }
   ],
   "source": [
    "fuzzytriangular(p = min(asy2CIl), q = max(asy2CIl), r = max(asy2CIu), x = round(theta_hat,4))"
   ]
  },
  {
   "cell_type": "markdown",
   "id": "60e5b193",
   "metadata": {},
   "source": [
    "## Exact confidence interval\n",
    "\n",
    "If $X_{1}, ..., X_{n}$ are iid with an exponential distribution of parameter $\\lambda$, then the quantity $2\\lambda \\sum_{i=1}^{n} x_{i} \\sim \\chi^{2}(2n)$. So we have that $\\frac{2n}{\\theta} \\hat{\\theta}_{MLE} \\sim \\chi^{2}(2n)$ Therefore, an exact $(1-\\beta)100 \\%$ confidence interval can be derived as follows:\n",
    "\n",
    "$$\n",
    "\\begin{align*}\n",
    "P \\bigg(\\chi^{2}_{1-\\beta/2}(2n) \\leq \\frac{2n \\hat{\\theta}_{MLE}}{\\theta} \\leq \\chi^{2}_{\\beta/2}(2n) \\bigg) = 1-\\beta \\\\\n",
    "P \\bigg(\\frac{\\chi^{2}_{1-\\beta/2}(2n) }{2n \\hat{\\theta}_{MLE}} \\leq \\frac{1}{\\theta} \\leq \\frac{\\chi^{2}_{\\beta/2}(2n)}{2n \\hat{\\theta}_{MLE}} \\bigg) = 1-\\beta \\\\\n",
    "P \\bigg(\\frac{2n \\hat{\\theta}_{MLE}}{\\chi^{2}_{1-\\beta/2}(2n)} \\leq \\theta  \\leq \\frac{2n \\hat{\\theta}_{MLE}}{\\chi^{2}_{\\beta/2}(2n)}  \\bigg) = 1-\\beta \\\\\n",
    "\\end{align*}\n",
    "$$\n",
    "\n",
    "So we have $\\theta \\in [\\frac{2n \\hat{\\theta}_{MLE}}{\\chi^{2}_{1-\\beta/2}(2n)}  \\pm \\frac{2n \\hat{\\theta}_{MLE}}{\\chi^{2}_{\\beta/2}(2n)}]$."
   ]
  },
  {
   "cell_type": "code",
   "execution_count": 118,
   "id": "bc90e4a3",
   "metadata": {},
   "outputs": [],
   "source": [
    "beta = seq(0.01:1, by = 0.01)\n",
    "exactCIl= 2*n*theta_hat / qchisq(1-beta/2, df = 2*n) # lower bounds\n",
    "exactCIu = 2*n*theta_hat / qchisq(beta/2, df = 2*n) # upper bounds"
   ]
  },
  {
   "cell_type": "code",
   "execution_count": 184,
   "id": "6efd247e",
   "metadata": {},
   "outputs": [
    {
     "data": {
      "image/png": "[encoded data removed]",
      "text/plain": [
       "Plot with title \"paste(\"Third triangular fuzzy confidence interval for the fuzzy parameter \", bar(theta))\""
      ]
     },
     "metadata": {},
     "output_type": "display_data"
    }
   ],
   "source": [
    "plot(x = c(exactCIl, sort(exactCIu, decreasing = FALSE)), y = c(seq(0.01, 1, length = 100), seq(1, 0.01, length = 100)), type = 'l',\n",
    "    main = expression(paste('Third triangular fuzzy confidence interval for the fuzzy parameter ', bar(theta))))"
   ]
  },
  {
   "cell_type": "markdown",
   "id": "1ae08059",
   "metadata": {},
   "source": [
    "We now have another fuzzy estimator $\\bar{\\theta}^{**}[\\alpha] = [\\bar{\\theta}^{**}_{1}(\\alpha), \\bar{\\theta}^{**}_{2}(\\alpha)]$ in the form of a triangular fuzzy number."
   ]
  },
  {
   "cell_type": "code",
   "execution_count": 165,
   "id": "77e96267",
   "metadata": {},
   "outputs": [
    {
     "data": {
      "text/html": [
       "0.979481536411207"
      ],
      "text/latex": [
       "0.979481536411207"
      ],
      "text/markdown": [
       "0.979481536411207"
      ],
      "text/plain": [
       "[1] 0.9794815"
      ]
     },
     "metadata": {},
     "output_type": "display_data"
    }
   ],
   "source": [
    "fuzzytriangular(p = min(exactCIl), q = max(exactCIl), r = max(exactCIu), x = round(theta_hat,4))"
   ]
  },
  {
   "cell_type": "markdown",
   "id": "2feb2139",
   "metadata": {},
   "source": [
    "The 'stacked' intervals are fuzzy numbers since they satistfy the properties:\n",
    "\n",
    "(i) they are normal fuzzy sets.\n",
    "\n",
    "(ii) $\\bar{\\theta}[\\alpha]$ is a closed interval for every $\\alpha \\in [0,1]$."
   ]
  },
  {
   "cell_type": "markdown",
   "id": "1b9791e7",
   "metadata": {},
   "source": [
    "## References\n",
    "\n",
    "J.J.Buckley: Fuzzy Statistics, Springer, 2004\n",
    "\n",
    "R.V.Hogg and E.A.Tanis: Probability and Statistical Inference, Sixth\n",
    "Edition, Prentice Hall, Upper Saddle River, N.J., 2001.\n",
    "\n",
    "Bijma, F., Jonker M., Van der Vaart, A., An Introduction to Mathematical Statistics. Amsterdam University Press., 2016"
   ]
  }
 ],
 "metadata": {
  "kernelspec": {
   "display_name": "R",
   "language": "R",
   "name": "ir"
  },
  "language_info": {
   "codemirror_mode": "r",
   "file_extension": ".r",
   "mimetype": "text/x-r-source",
   "name": "R",
   "pygments_lexer": "r",
   "version": "3.6.1"
  }
 },
 "nbformat": 4,
 "nbformat_minor": 5
}
